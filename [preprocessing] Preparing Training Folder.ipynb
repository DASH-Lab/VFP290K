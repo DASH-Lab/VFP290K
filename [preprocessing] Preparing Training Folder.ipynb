{
 "cells": [
  {
   "cell_type": "code",
   "execution_count": 1,
   "metadata": {},
   "outputs": [],
   "source": [
    "import os, shutil, json\n",
    "import numpy as np\n",
    "from tqdm import tqdm\n",
    "from glob import glob"
   ]
  },
  {
   "cell_type": "code",
   "execution_count": 2,
   "metadata": {},
   "outputs": [],
   "source": [
    "def read_json(path):\n",
    "    with open(path, 'r') as json_file:\n",
    "        json_data = json.load(json_file)\n",
    "        \n",
    "    return json_data\n",
    "\n",
    "def get_split_by_video(path):\n",
    "    videos = np.array([each.split('/')[-1].split('_')[0] for each in path])\n",
    "    each_video = np.unique(videos)\n",
    "    \n",
    "    video_dict = {}\n",
    "    for video_name in each_video:\n",
    "        video_dict[video_name] = path[videos == video_name]\n",
    "    return video_dict\n",
    "\n",
    "def make_folder_v1(base_path, json_file, key):\n",
    "    \"\"\"\n",
    "    base_path: our VFP290K directory\n",
    "    \"\"\"\n",
    "    \n",
    "    os.makedirs(base_path+key, exist_ok=True)\n",
    "    \n",
    "    \n",
    "    for each_video in tqdm(json_file[key]['train'], total=len(json_file[key]['train'])):\n",
    "        shutil.copytree(f'{base_path}/VFP290K/{each_video}', f'{base_path}/{key}/train/{each_video}')\n",
    "        break\n",
    "        \n",
    "    for each_video in tqdm(json_file[key]['val'], total=len(json_file[key]['val'])):\n",
    "        shutil.copytree(f'{base_path}/VFP290K/{each_video}', f'{base_path}/{key}/val/{each_video}')\n",
    "        break\n",
    "        \n",
    "    for each_video in tqdm(json_file[key]['test'], total=len(json_file[key]['test'])):\n",
    "        shutil.copytree(f'{base_path}/VFP290K/{each_video}', f'{base_path}/{key}/test/{each_video}')\n",
    "        break\n",
    "        \n",
    "def make_folder_v2(base_path, json_file, key):\n",
    "    \"\"\"\n",
    "    base_path: our VFP290K directory\n",
    "    \"\"\"\n",
    "    \n",
    "    img_paths = sorted([y for x in os.walk(base_path+'/VFP290K/') for y in glob(os.path.join(x[0], '*/images/*.jpg')) ])\n",
    "    xml_paths = sorted([y for x in os.walk(base_path+'/VFP290K/') for y in glob(os.path.join(x[0], '*/clean_xml/*.xml')) ])\n",
    "\n",
    "    img_dict = get_split_by_video(np.array(list(img_paths)))\n",
    "    xml_dict = get_split_by_video(np.array(list(xml_paths)))\n",
    "    \n",
    "    for each_video in tqdm(json_file[key]['train'], total=len(json_file[key]['train'])):\n",
    "        for each_image_file, each_xml_file in zip(img_dict[each_video], xml_dict[each_video]):\n",
    "            os.makedirs(f'{base_path}/yolov5/{key}/train/image', exist_ok=True)\n",
    "            os.makedirs(f'{base_path}/yolov5/{key}/train/label', exist_ok=True)\n",
    "            \n",
    "            shutil.copy(each_image_file, f'{base_path}/yolov5/{key}/train/image/')\n",
    "            shutil.copy(each_xml_file, f'{base_path}/yolov5/{key}/train/label/')\n",
    "        break\n",
    "        \n",
    "    for each_video in tqdm(json_file[key]['val'], total=len(json_file[key]['val'])):\n",
    "        for each_image_file, each_xml_file in zip(img_dict[each_video], xml_dict[each_video]):    \n",
    "            os.makedirs(f'{base_path}/yolov5/{key}/val/image', exist_ok=True)\n",
    "            os.makedirs(f'{base_path}/yolov5/{key}/val/label', exist_ok=True)\n",
    "            \n",
    "            shutil.copy(each_image_file, f'{base_path}/yolov5/{key}/val/image/')\n",
    "            shutil.copy(each_xml_file, f'{base_path}/yolov5/{key}/val/label/')\n",
    "        break\n",
    "        \n",
    "    for each_video in tqdm(json_file[key]['test'], total=len(json_file[key]['test'])):\n",
    "        for each_image_file, each_xml_file in zip(img_dict[each_video], xml_dict[each_video]):\n",
    "            os.makedirs(f'{base_path}/yolov5/{key}/test/image', exist_ok=True)\n",
    "            os.makedirs(f'{base_path}/yolov5/{key}/test/label', exist_ok=True)\n",
    "            \n",
    "            shutil.copy(each_image_file, f'{base_path}/yolov5/{key}/test/image/')\n",
    "            shutil.copy(each_xml_file, f'{base_path}/yolov5/{key}/test/label/')\n",
    "        break"
   ]
  },
  {
   "cell_type": "markdown",
   "metadata": {},
   "source": [
    "### 1. Preparing Training Folder for baselines using MMdetection "
   ]
  },
  {
   "cell_type": "code",
   "execution_count": 3,
   "metadata": {},
   "outputs": [],
   "source": [
    "path   = '/media/data1/VFP290K/'\n",
    "videos = sorted(os.listdir(path+'VFP290K'))"
   ]
  },
  {
   "cell_type": "code",
   "execution_count": 4,
   "metadata": {},
   "outputs": [],
   "source": [
    "light_condition_data = read_json('light condition.json')\n",
    "make_folder_v1(path, light_condition_data, 'day')\n",
    "make_folder_v1(path, light_condition_data, 'night')"
   ]
  },
  {
   "cell_type": "code",
   "execution_count": 6,
   "metadata": {
    "collapsed": true,
    "jupyter": {
     "outputs_hidden": true
    }
   },
   "outputs": [
    {
     "name": "stderr",
     "output_type": "stream",
     "text": [
      "  0%|          | 0/57 [00:00<?, ?it/s]\n",
      "  0%|          | 0/13 [00:00<?, ?it/s]\n",
      "  0%|          | 0/11 [00:02<?, ?it/s]\n",
      "  0%|          | 0/67 [00:02<?, ?it/s]\n",
      "  0%|          | 0/12 [00:00<?, ?it/s]\n",
      "  0%|          | 0/18 [00:01<?, ?it/s]\n"
     ]
    }
   ],
   "source": [
    "camera_hieght_data = read_json('camera angle.json')\n",
    "make_folder_v1(path, camera_hieght_data, 'low')\n",
    "make_folder_v1(path, camera_hieght_data, 'high')"
   ]
  },
  {
   "cell_type": "code",
   "execution_count": 7,
   "metadata": {
    "collapsed": true,
    "jupyter": {
     "outputs_hidden": true
    }
   },
   "outputs": [
    {
     "name": "stderr",
     "output_type": "stream",
     "text": [
      "  0%|          | 0/74 [01:46<?, ?it/s]\n",
      "  0%|          | 0/9 [00:02<?, ?it/s]\n",
      "  0%|          | 0/35 [00:10<?, ?it/s]\n",
      "  0%|          | 0/33 [00:00<?, ?it/s]\n",
      "  0%|          | 0/7 [00:01<?, ?it/s]\n",
      "  0%|          | 0/7 [00:00<?, ?it/s]\n",
      "  0%|          | 0/5 [00:00<?, ?it/s]\n",
      "  0%|          | 0/4 [00:00<?, ?it/s]\n",
      "  0%|          | 0/4 [00:00<?, ?it/s]\n"
     ]
    }
   ],
   "source": [
    "background_data = read_json('background.json')\n",
    "make_folder_v1(path, background_data, 'street')\n",
    "make_folder_v1(path, background_data, 'park')\n",
    "make_folder_v1(path, background_data, 'building')"
   ]
  },
  {
   "cell_type": "code",
   "execution_count": 4,
   "metadata": {
    "collapsed": true,
    "jupyter": {
     "outputs_hidden": true
    }
   },
   "outputs": [
    {
     "name": "stderr",
     "output_type": "stream",
     "text": [
      "  0%|          | 0/110 [00:00<?, ?it/s]\n",
      "  0%|          | 0/12 [00:01<?, ?it/s]\n",
      "  0%|          | 0/56 [00:00<?, ?it/s]\n"
     ]
    }
   ],
   "source": [
    "benchmark_data = read_json('benchmark.json')\n",
    "make_folder_v1(path, benchmark_data, 'benchmark')"
   ]
  },
  {
   "cell_type": "code",
   "execution_count": 8,
   "metadata": {},
   "outputs": [],
   "source": [
    "os.makedirs(path+'annotations', exist_ok=True)"
   ]
  },
  {
   "cell_type": "markdown",
   "metadata": {},
   "source": [
    "### 2. Preparing Training Folder for YOLOv5"
   ]
  },
  {
   "cell_type": "code",
   "execution_count": 3,
   "metadata": {},
   "outputs": [],
   "source": [
    "path   = '/media/data1/VFP290K/'\n",
    "videos = sorted(os.listdir(path+'VFP290K'))"
   ]
  },
  {
   "cell_type": "code",
   "execution_count": 4,
   "metadata": {},
   "outputs": [
    {
     "name": "stderr",
     "output_type": "stream",
     "text": [
      "  0%|          | 0/97 [00:00<?, ?it/s]\n",
      "  0%|          | 0/15 [00:00<?, ?it/s]\n",
      "  0%|          | 0/26 [00:00<?, ?it/s]\n",
      "  0%|          | 0/25 [00:00<?, ?it/s]\n",
      "  0%|          | 0/7 [00:00<?, ?it/s]\n",
      "  0%|          | 0/8 [00:00<?, ?it/s]\n"
     ]
    }
   ],
   "source": [
    "light_condition_data = read_json('light condition.json')\n",
    "make_folder_v2(path, light_condition_data, 'day')\n",
    "make_folder_v2(path, light_condition_data, 'night')"
   ]
  },
  {
   "cell_type": "code",
   "execution_count": 5,
   "metadata": {},
   "outputs": [
    {
     "name": "stderr",
     "output_type": "stream",
     "text": [
      "  0%|          | 0/57 [00:00<?, ?it/s]\n",
      "  0%|          | 0/13 [00:00<?, ?it/s]\n",
      "  0%|          | 0/11 [00:02<?, ?it/s]\n",
      "  0%|          | 0/67 [00:00<?, ?it/s]\n",
      "  0%|          | 0/12 [00:00<?, ?it/s]\n",
      "  0%|          | 0/18 [00:00<?, ?it/s]\n"
     ]
    }
   ],
   "source": [
    "camera_hieght_data = read_json('camera angle.json')\n",
    "make_folder_v2(path, camera_hieght_data, 'low')\n",
    "make_folder_v2(path, camera_hieght_data, 'high')"
   ]
  },
  {
   "cell_type": "code",
   "execution_count": 6,
   "metadata": {},
   "outputs": [
    {
     "name": "stderr",
     "output_type": "stream",
     "text": [
      "  0%|          | 0/74 [00:02<?, ?it/s]\n",
      "  0%|          | 0/9 [00:00<?, ?it/s]\n",
      "  0%|          | 0/35 [00:01<?, ?it/s]\n",
      "  0%|          | 0/33 [00:00<?, ?it/s]\n",
      "  0%|          | 0/7 [00:00<?, ?it/s]\n",
      "  0%|          | 0/7 [00:00<?, ?it/s]\n",
      "  0%|          | 0/5 [00:00<?, ?it/s]\n",
      "  0%|          | 0/4 [00:00<?, ?it/s]\n",
      "  0%|          | 0/4 [00:00<?, ?it/s]\n"
     ]
    }
   ],
   "source": [
    "background_data = read_json('background.json')\n",
    "make_folder_v2(path, background_data, 'street')\n",
    "make_folder_v2(path, background_data, 'park')\n",
    "make_folder_v2(path, background_data, 'building')"
   ]
  },
  {
   "cell_type": "code",
   "execution_count": 8,
   "metadata": {},
   "outputs": [
    {
     "name": "stderr",
     "output_type": "stream",
     "text": [
      "  0%|          | 0/110 [00:00<?, ?it/s]\n",
      "  0%|          | 0/12 [00:00<?, ?it/s]\n",
      "  0%|          | 0/56 [00:00<?, ?it/s]\n"
     ]
    }
   ],
   "source": [
    "benchmark_data = read_json('benchmark.json')\n",
    "make_folder_v2(path, benchmark_data, 'benchmark')"
   ]
  },
  {
   "cell_type": "code",
   "execution_count": null,
   "metadata": {},
   "outputs": [],
   "source": []
  }
 ],
 "metadata": {
  "kernelspec": {
   "display_name": "torch",
   "language": "python",
   "name": "torch"
  },
  "language_info": {
   "codemirror_mode": {
    "name": "ipython",
    "version": 3
   },
   "file_extension": ".py",
   "mimetype": "text/x-python",
   "name": "python",
   "nbconvert_exporter": "python",
   "pygments_lexer": "ipython3",
   "version": "3.7.0"
  }
 },
 "nbformat": 4,
 "nbformat_minor": 4
}
