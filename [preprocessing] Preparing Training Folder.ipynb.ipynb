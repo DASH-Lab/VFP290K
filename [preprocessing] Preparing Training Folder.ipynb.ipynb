{
 "cells": [
  {
   "cell_type": "code",
   "execution_count": 1,
   "id": "95c78c81-d317-4e42-9db5-ff382e88259a",
   "metadata": {},
   "outputs": [],
   "source": [
    "import os, shutil, json\n",
    "import numpy as np\n",
    "from tqdm import tqdm\n",
    "from glob import glob"
   ]
  },
  {
   "cell_type": "code",
   "execution_count": 2,
   "id": "a99603aa-d671-429c-a4ed-f4983fc5d89e",
   "metadata": {},
   "outputs": [],
   "source": [
    "def read_json(path):\n",
    "    with open(path, 'r') as json_file:\n",
    "        json_data = json.load(json_file)\n",
    "        \n",
    "    return json_data\n",
    "\n",
    "def get_split_by_video(path):\n",
    "    videos = np.array([each.split('/')[-1].split('_')[0] for each in path])\n",
    "    each_video = np.unique(videos)\n",
    "    \n",
    "    video_dict = {}\n",
    "    for video_name in each_video:\n",
    "        video_dict[video_name] = path[videos == video_name]\n",
    "    return video_dict\n",
    "\n",
    "def make_folder_v1(base_path, json_file, key):\n",
    "    \"\"\"\n",
    "    base_path: our VFP290K directory\n",
    "    \"\"\"\n",
    "    \n",
    "    os.makedirs(base_path+key, exist_ok=True)\n",
    "    \n",
    "    for each_video in tqdm(json_file[key]['train'], total=len(json_file[key]['train'])):\n",
    "        shutil.copytree(f'{base_path}/VFP290K/{each_video}', f'{base_path}/{key}/train/{each_video}')\n",
    "        \n",
    "    for each_video in tqdm(json_file[key]['val'], total=len(json_file[key]['val'])):\n",
    "        shutil.copytree(f'{base_path}/VFP290K/{each_video}', f'{base_path}/{key}/val/{each_video}')\n",
    "        \n",
    "    for each_video in tqdm(json_file[key]['test'], total=len(json_file[key]['test'])):\n",
    "        shutil.copytree(f'{base_path}/VFP290K/{each_video}', f'{base_path}/{key}/test/{each_video}')\n",
    "        \n",
    "def make_folder_v2(base_path, json_file, key):\n",
    "    \"\"\"\n",
    "    base_path: our VFP290K directory\n",
    "    \"\"\"\n",
    "    \n",
    "    img_paths = sorted([y for x in os.walk(base_path+'/VFP290K/') for y in glob(os.path.join(x[0], '*/images/*.jpg')) ])\n",
    "    xml_paths = sorted([y for x in os.walk(base_path+'/VFP290K/') for y in glob(os.path.join(x[0], '*/clean_xml/*.xml')) ])\n",
    "\n",
    "    img_dict = get_split_by_video(np.array(list(img_paths)))\n",
    "    xml_dict = get_split_by_video(np.array(list(xml_paths)))\n",
    "    \n",
    "    for each_video in tqdm(json_file[key]['train'], total=len(json_file[key]['train'])):\n",
    "        for each_image_file, each_xml_file in zip(img_dict[each_video], xml_dict[each_video]):\n",
    "            os.makedirs(f'{base_path}/yolov5/{key}/train/images', exist_ok=True)\n",
    "            os.makedirs(f'{base_path}/yolov5/{key}/train/labels', exist_ok=True)\n",
    "            \n",
    "            shutil.copy(each_image_file, f'{base_path}/yolov5/{key}/train/images/')\n",
    "            shutil.copy(each_xml_file, f'{base_path}/yolov5/{key}/train/labels/')\n",
    "        \n",
    "    for each_video in tqdm(json_file[key]['val'], total=len(json_file[key]['val'])):\n",
    "        for each_image_file, each_xml_file in zip(img_dict[each_video], xml_dict[each_video]):    \n",
    "            os.makedirs(f'{base_path}/yolov5/{key}/val/images', exist_ok=True)\n",
    "            os.makedirs(f'{base_path}/yolov5/{key}/val/labels', exist_ok=True)\n",
    "            \n",
    "            shutil.copy(each_image_file, f'{base_path}/yolov5/{key}/val/images/')\n",
    "            shutil.copy(each_xml_file, f'{base_path}/yolov5/{key}/val/labels/')\n",
    "        \n",
    "    for each_video in tqdm(json_file[key]['test'], total=len(json_file[key]['test'])):\n",
    "        for each_image_file, each_xml_file in zip(img_dict[each_video], xml_dict[each_video]):\n",
    "            os.makedirs(f'{base_path}/yolov5/{key}/test/images', exist_ok=True)\n",
    "            os.makedirs(f'{base_path}/yolov5/{key}/test/labels', exist_ok=True)\n",
    "            \n",
    "            shutil.copy(each_image_file, f'{base_path}/yolov5/{key}/test/images/')\n",
    "            shutil.copy(each_xml_file, f'{base_path}/yolov5/{key}/test/labels/')"
   ]
  },
  {
   "cell_type": "markdown",
   "id": "9136719a-802f-4745-add8-e1e4848c856c",
   "metadata": {},
   "source": [
    "### 1. Preparing Training Folder for baselines using MMdetection"
   ]
  },
  {
   "cell_type": "code",
   "execution_count": null,
   "id": "25ab7c8e-7fd3-4eee-a15d-f68f15f1794f",
   "metadata": {},
   "outputs": [],
   "source": [
    "path   = '/media/data1/VFP290K/'\n",
    "videos = sorted(os.listdir(path+'VFP290K'))"
   ]
  },
  {
   "cell_type": "code",
   "execution_count": null,
   "id": "8fc14d79-f982-4d58-b878-15d8c7f26335",
   "metadata": {},
   "outputs": [],
   "source": [
    "light_condition_data = read_json('light_conditions.json')\n",
    "make_folder_v1(path, light_condition_data, 'day')\n",
    "make_folder_v1(path, light_condition_data, 'night')"
   ]
  },
  {
   "cell_type": "code",
   "execution_count": null,
   "id": "0572db41-16f7-479c-bbb4-f70edf793e62",
   "metadata": {},
   "outputs": [],
   "source": [
    "camera_hieght_data = read_json('camera_heights.json')\n",
    "make_folder_v1(path, camera_hieght_data, 'low')\n",
    "make_folder_v1(path, camera_hieght_data, 'high')"
   ]
  },
  {
   "cell_type": "code",
   "execution_count": null,
   "id": "2adf33f6-1162-438a-a1e3-6c743fd6b5a5",
   "metadata": {},
   "outputs": [],
   "source": [
    "background_data = read_json('background.json')\n",
    "make_folder_v1(path, background_data, 'street')\n",
    "make_folder_v1(path, background_data, 'park')\n",
    "make_folder_v1(path, background_data, 'building')"
   ]
  },
  {
   "cell_type": "code",
   "execution_count": null,
   "id": "8a075301-51b7-41f2-a7aa-b2f7dec4dc19",
   "metadata": {},
   "outputs": [],
   "source": [
    "benchmark_data = read_json('benchmark.json')\n",
    "make_folder_v1(path, benchmark_data, 'benchmark')"
   ]
  },
  {
   "cell_type": "code",
   "execution_count": null,
   "id": "39681a4b-960a-4c34-b498-6bac1df3291e",
   "metadata": {},
   "outputs": [],
   "source": [
    "os.makedirs(path+'annotations', exist_ok=True)"
   ]
  },
  {
   "cell_type": "markdown",
   "id": "e1b9e0f0-47d4-48f1-b0f3-0c9400a3159c",
   "metadata": {},
   "source": [
    " . . "
   ]
  },
  {
   "cell_type": "markdown",
   "id": "2ce976b4-182b-417f-a7f2-bb1dbe8fb8ea",
   "metadata": {},
   "source": [
    "### 2. Preparing Training Folder for YOLOv5\n"
   ]
  },
  {
   "cell_type": "code",
   "execution_count": null,
   "id": "fdc30c83-4b1c-41cd-b005-3780a2e718f6",
   "metadata": {},
   "outputs": [],
   "source": [
    "path   = '/media/data1/VFP290K/'\n",
    "videos = sorted(os.listdir(path+'VFP290K'))"
   ]
  },
  {
   "cell_type": "code",
   "execution_count": null,
   "id": "66bd7268-2eb1-4e2d-bf09-4f8b22d6f3f0",
   "metadata": {},
   "outputs": [],
   "source": [
    "light_condition_data = read_json('light_conditions.json')\n",
    "make_folder_v2(path, light_condition_data, 'day')\n",
    "make_folder_v2(path, light_condition_data, 'night')"
   ]
  },
  {
   "cell_type": "code",
   "execution_count": null,
   "id": "e4e6e571-11c5-45a8-8063-d386f286ee5b",
   "metadata": {},
   "outputs": [],
   "source": [
    "camera_hieght_data = read_json('camera_heights.json')\n",
    "make_folder_v2(path, camera_hieght_data, 'low')\n",
    "make_folder_v2(path, camera_hieght_data, 'high')"
   ]
  },
  {
   "cell_type": "code",
   "execution_count": null,
   "id": "77f35265-6381-45d2-ac96-18a238f96bde",
   "metadata": {},
   "outputs": [],
   "source": [
    "background_data = read_json('background.json')\n",
    "make_folder_v2(path, background_data, 'street')\n",
    "make_folder_v2(path, background_data, 'park')\n",
    "make_folder_v2(path, background_data, 'building')"
   ]
  },
  {
   "cell_type": "code",
   "execution_count": null,
   "id": "9daa7fa2-125b-47db-930d-613e90eff06c",
   "metadata": {},
   "outputs": [],
   "source": [
    "benchmark_data = read_json('benchmark.json')\n",
    "make_folder_v1(path, benchmark_data, 'benchmark')"
   ]
  }
 ],
 "metadata": {
  "kernelspec": {
   "display_name": "Python 3",
   "language": "python",
   "name": "python3"
  },
  "language_info": {
   "codemirror_mode": {
    "name": "ipython",
    "version": 3
   },
   "file_extension": ".py",
   "mimetype": "text/x-python",
   "name": "python",
   "nbconvert_exporter": "python",
   "pygments_lexer": "ipython3",
   "version": "3.7.10"
  }
 },
 "nbformat": 4,
 "nbformat_minor": 5
}
