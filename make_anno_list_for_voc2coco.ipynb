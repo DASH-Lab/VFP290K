{
 "cells": [
  {
   "cell_type": "code",
   "execution_count": null,
   "id": "5982962c-05c5-41a8-b33d-55abce221693",
   "metadata": {},
   "outputs": [],
   "source": [
    "import os\n",
    "from glob import glob\n",
    "import numpy as np\n",
    "\n",
    "target_domain = 'low' \n",
    "task = 'test'\n",
    "\n",
    "rootpath = os.path.join('/media/data1/VFP290K', target_domain, task) + '/'\n",
    "\n",
    "res = [y for x in os.walk(rootpath) for y in glob(os.path.join(x[0], '*.jpg'))]\n",
    "#print(res)\n",
    "meta = np.array([each.split('/')[-3:] for each in res])\n",
    "#print(meta)\n",
    "video_name = meta[:, 0]\n",
    "#print(video_name)\n",
    "\n",
    "candidate = np.unique(video_name)\n",
    "#print(len(candidate))\n",
    "np.random.seed(1)\n",
    "\n",
    "\n",
    "all_frames = []\n",
    "for each_video in candidate:\n",
    "    if each_video == target_domain:\n",
    "        continue\n",
    "    xmls = os.listdir(rootpath+each_video+'/xmls/')#[::5] # sampling = 5\n",
    "    all_frames.extend(xmls)\n",
    "#print(len(all_frames))\n",
    "\n",
    "\n",
    "target_path = '/media/data1/VFP290K/annotations/'+target_domain+'_' + task + '.txt'\n",
    "with open(target_path, 'w') as f:\n",
    "    for each in all_frames:\n",
    "        video_name = each[:8]\n",
    "        file_name = each.split('.')[0]\n",
    "        target_string = video_name + '/xmls/' + file_name\n",
    "        f.write(target_string+'\\n')\n",
    "        \n"
   ]
  }
 ],
 "metadata": {
  "kernelspec": {
   "display_name": "open-mmlab",
   "language": "python",
   "name": "open-mmlab"
  },
  "language_info": {
   "codemirror_mode": {
    "name": "ipython",
    "version": 3
   },
   "file_extension": ".py",
   "mimetype": "text/x-python",
   "name": "python",
   "nbconvert_exporter": "python",
   "pygments_lexer": "ipython3",
   "version": "3.7.11"
  }
 },
 "nbformat": 4,
 "nbformat_minor": 5
}
